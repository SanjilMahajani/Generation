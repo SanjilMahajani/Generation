{
 "cells": [
  {
   "cell_type": "code",
   "execution_count": 11,
   "metadata": {},
   "outputs": [
    {
     "name": "stdout",
     "output_type": "stream",
     "text": [
      "Data sources to be generated within the specified date range: ['HOT translations & ASRA', 'SPASS', 'PUE', 'iparts']\n"
     ]
    }
   ],
   "source": [
    "from datetime import datetime, timedelta\n",
    "\n",
    "def get_data_sources_in_range():\n",
    "    # Prompt user to input start date\n",
    "    start_date_str = input(\"Enter the start date (format: dd/mm): \")\n",
    "    start_date = datetime.strptime(start_date_str, '%d/%m')\n",
    "\n",
    "    # Prompt user to input end date\n",
    "    end_date_str = input(\"Enter the end date (format: dd/mm): \")\n",
    "    end_date = datetime.strptime(end_date_str, '%d/%m')\n",
    "\n",
    "    # Define the data sources and their generation rules\n",
    "    data_sources = {\n",
    "        'VEGA': [datetime.strptime(date, '%d/%m') for date in ['02/01', '02/02', '02/03', '02/04','02/05','02/06','02/07','02/08','02/09','02/10','02/11','02/12']],\n",
    "        'HOT translations & ASRA': [datetime.strptime(date, '%d/%m') for date in ['15/01', '15/02', '15/03', '15/04','15/05','15/06','15/07','15/08','15/09','15/10','15/11','15/12']],\n",
    "        'SPASS': [datetime.strptime(date, '%d/%m') for date in ['09/02', '11/05', '03/08', '09/11']],\n",
    "        'PUE': [datetime.strptime(date, '%d/%m') for date in ['14/02', '14/03', '18/04', '16/05', '13/06', '11/07', '15/08', '12/09', '17/10', '28/11']]\n",
    "    }\n",
    "\n",
    "    # Find data sources with dates within the specified range\n",
    "    data_sources_in_range = [source for source, dates in data_sources.items() if any(start_date <= date <= end_date for date in dates)]\n",
    "\n",
    "    # Ensure \"iparts\" is always included in the result\n",
    "    if 'iparts' not in data_sources_in_range:\n",
    "        data_sources_in_range.append('iparts')\n",
    "\n",
    "    return data_sources_in_range\n",
    "\n",
    "# Example usage:\n",
    "result = get_data_sources_in_range()\n",
    "print(\"Data sources to be generated within the specified date range:\", result)\n"
   ]
  }
 ],
 "metadata": {
  "kernelspec": {
   "display_name": "Python 3",
   "language": "python",
   "name": "python3"
  },
  "language_info": {
   "codemirror_mode": {
    "name": "ipython",
    "version": 3
   },
   "file_extension": ".py",
   "mimetype": "text/x-python",
   "name": "python",
   "nbconvert_exporter": "python",
   "pygments_lexer": "ipython3",
   "version": "3.10.2"
  }
 },
 "nbformat": 4,
 "nbformat_minor": 2
}
